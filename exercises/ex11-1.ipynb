{
 "cells": [
  {
   "cell_type": "code",
   "execution_count": null,
   "metadata": {
    "collapsed": true
   },
   "outputs": [],
   "source": [
    "import thinkbayes\n",
    "\n",
    "class ESP(thinkbayes.Suite):\n",
    "    def __init__(self):\n",
    "        pmf=thinkbayes.Pmf()\n",
    "        pmf.Set(0,0.9)\n",
    "        pmf.Set(1,0.1)\n",
    "        thinkbayes.Suite.__init__(self,pmf)\n",
    "\n",
    "        \n",
    "\n",
    "\n",
    "    \n",
    "\n",
    "        "
   ]
  }
 ],
 "metadata": {
  "kernelspec": {
   "display_name": "py36",
   "language": "python",
   "name": "py36"
  },
  "language_info": {
   "codemirror_mode": {
    "name": "ipython",
    "version": 3
   },
   "file_extension": ".py",
   "mimetype": "text/x-python",
   "name": "python",
   "nbconvert_exporter": "python",
   "pygments_lexer": "ipython3",
   "version": "3.6.10"
  }
 },
 "nbformat": 4,
 "nbformat_minor": 2
}
