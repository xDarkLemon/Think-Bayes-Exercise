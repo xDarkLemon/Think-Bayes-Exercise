{
 "cells": [
  {
   "cell_type": "code",
   "execution_count": 27,
   "metadata": {},
   "outputs": [],
   "source": [
    "import math\n",
    "import scipy\n",
    "import numpy as np\n",
    "import matplotlib.pyplot as plt\n",
    "import sys\n",
    "sys.path.append(\"../code/\")\n",
    "import thinkbayes\n",
    "import thinkplot\n",
    "    \n",
    "    \n",
    "class PaintBall(thinkbayes.Suite):\n",
    "    def __init__(self,alphas,betas,locations):\n",
    "        self.locations=locations\n",
    "        pmf=thinkbayes.Pmf()\n",
    "        pairs=[(alpha,beta) for alpha in alphas for beta in betas]\n",
    "        for alpha,beta in pairs:\n",
    "            prob=1/(max(betas)-beta+5)**2  # the prior\n",
    "            pmf.Set((alpha,beta),prob)\n",
    "        pmf.Normalize()\n",
    "        thinkbayes.Suite.__init__(self,pmf)\n",
    "    \n",
    "    def Likelihood(self,data,hypo):\n",
    "        alpha,beta=hypo\n",
    "        x=data\n",
    "        pmf=thinkbayes.Pmf()\n",
    "        for loc in self.locations:\n",
    "            theta=math.atan2(loc-alpha,beta)\n",
    "            prob=(math.cos(theta)**2)/beta\n",
    "            pmf.Set(loc,prob)\n",
    "        pmf.Normalize()\n",
    "        like=pmf.Prob(x)\n",
    "        return like\n",
    "    \n",
    "    def MaxLikeInterval(self,percentage=50):\n",
    "        interval=[]\n",
    "        total=0.0\n",
    "        t=[(v,p) for v,p in self.Items()]\n",
    "        t=sorted(t,key=lambda x:x[1],reverse=True)\n",
    "        for v,p in t:\n",
    "            interval.append(v)\n",
    "            total+=p\n",
    "            if total>percentage/100:\n",
    "                break\n",
    "        return interval"
   ]
  },
  {
   "cell_type": "code",
   "execution_count": 28,
   "metadata": {},
   "outputs": [
    {
     "data": {
      "text/plain": [
       "Text(0, 0.5, 'alpha')"
      ]
     },
     "execution_count": 28,
     "metadata": {},
     "output_type": "execute_result"
    },
    {
     "data": {
      "image/png": "[encoded data removed]",
      "text/plain": [
       "<Figure size 432x288 with 1 Axes>"
      ]
     },
     "metadata": {
      "needs_background": "light"
     },
     "output_type": "display_data"
    }
   ],
   "source": [
    "import numpy as np\n",
    "import matplotlib.pyplot as plt\n",
    "\n",
    "alphas=range(0,31)\n",
    "betas=range(1,51)\n",
    "locations=range(0,31)\n",
    "suite=PaintBall(alphas,betas,locations)\n",
    "suite.UpdateSet([15,16,18,21])\n",
    "\n",
    "x=np.zeros((31,51))\n",
    "for p in [25,50,75,90]:\n",
    "    interval=suite.MaxLikeInterval(percentage=p)\n",
    "    for i,j in interval:\n",
    "        x[i][j]+=1\n",
    "plt.imshow(x, cmap=\"ocean_r\", vmin=0, vmax=15)\n",
    "plt.xlabel(\"beta\")\n",
    "plt.ylabel(\"alpha\")"
   ]
  }
 ],
 "metadata": {
  "kernelspec": {
   "display_name": "py36",
   "language": "python",
   "name": "py36"
  },
  "language_info": {
   "codemirror_mode": {
    "name": "ipython",
    "version": 3
   },
   "file_extension": ".py",
   "mimetype": "text/x-python",
   "name": "python",
   "nbconvert_exporter": "python",
   "pygments_lexer": "ipython3",
   "version": "3.6.10"
  }
 },
 "nbformat": 4,
 "nbformat_minor": 2
}
