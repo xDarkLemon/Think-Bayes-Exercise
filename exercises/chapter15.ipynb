{
 "cells": [
  {
   "cell_type": "code",
   "execution_count": 26,
   "metadata": {},
   "outputs": [],
   "source": [
    "import numpy as np\n",
    "import scipy.special as sc\n",
    "import sys\n",
    "sys.path.append(\"../code/\")\n",
    "import thinkbayes\n",
    "import thinkplot"
   ]
  },
  {
   "cell_type": "code",
   "execution_count": 97,
   "metadata": {},
   "outputs": [],
   "source": [
    "class Beta(object):\n",
    "    def __init__(self,a,b):\n",
    "        self.a=a\n",
    "        self.b=b\n",
    "    \n",
    "    def Mean(self):  # expectation of beta distribution\n",
    "        return self.a/(self.a+self.b)\n",
    "    \n",
    "    def Update(self,data):  # 推导：共轭分布\n",
    "        a,b=data\n",
    "        self.a+=a\n",
    "        self.b+=b\n",
    "        \n",
    "    def MakePmf(self):\n",
    "        pmf=thinkbayes.Pmf()\n",
    "        for i in np.linspace(0,1,num=51):\n",
    "            prob=sc.beta(self.a,self.b)\n",
    "            pmf.Set(i,prob)\n",
    "        pmf.Normalize()\n",
    "        return pmf\n",
    "        \n",
    "class Dirichlet(object):\n",
    "    def __init__(self,n):\n",
    "        self.n=n\n",
    "        self.params=np.ones(n, dtype=np.int)\n",
    "    \n",
    "    def MarginalBeta(self,i):\n",
    "        return Beta(self.params[i],self.params.sum()-self.params[i])\n",
    "#         return sc.beta(self.params[i],self.params.sum()-self.params[i])\n",
    "\n",
    "    def Update(self,data):\n",
    "        m=len(data)\n",
    "        if len(self.params)>=m:\n",
    "            self.params[:m]+=data\n",
    "    \n",
    "    def Likelihood(self,data):\n",
    "        m=len(data)\n",
    "        if self.n<m:\n",
    "            return 0\n",
    "        x=data\n",
    "        p=np.random.gamma(self.params)  # numpy.random.gamma([3,2,1])=array([0.29825935, 1.71732447, 0.98703398])\n",
    "        p=p/p.sum()\n",
    "        q=p[:m]**x  # 随机选择一组种群比例\n",
    "        return q.prod()\n",
    "    \n",
    "    def __gt__(self,b):\n",
    "        if self.n > b.n:\n",
    "            return True\n",
    "        else:\n",
    "            return False"
   ]
  },
  {
   "cell_type": "markdown",
   "metadata": {},
   "source": [
    "## Given the number of species, estimate the propotion of each species"
   ]
  },
  {
   "cell_type": "code",
   "execution_count": 98,
   "metadata": {},
   "outputs": [
    {
     "name": "stdout",
     "output_type": "stream",
     "text": [
      "0.3333333333333333\n"
     ]
    }
   ],
   "source": [
    "dirichlet=Dirichlet(3)\n",
    "beta=dirichlet.MarginalBeta(1)\n",
    "print(beta.Mean())"
   ]
  },
  {
   "cell_type": "code",
   "execution_count": 99,
   "metadata": {},
   "outputs": [
    {
     "name": "stdout",
     "output_type": "stream",
     "text": [
      "0 0.4444444444444444\n",
      "1 0.3333333333333333\n",
      "2 0.2222222222222222\n"
     ]
    }
   ],
   "source": [
    "dirichlet.Update([3,2,1])\n",
    "for i in range(3):  # 3 categories\n",
    "    beta=dirichlet.MarginalBeta(i)\n",
    "    print(i,beta.Mean())"
   ]
  },
  {
   "cell_type": "markdown",
   "metadata": {},
   "source": [
    "## Estimate the number of species"
   ]
  },
  {
   "cell_type": "code",
   "execution_count": 163,
   "metadata": {},
   "outputs": [],
   "source": [
    "class Species(thinkbayes.Suite):\n",
    "    def __init__(self,ns):\n",
    "        hypos=[Dirichlet(n) for n in ns]\n",
    "        thinkbayes.Suite.__init__(self,hypos)\n",
    "    \n",
    "    def Update(self,data):\n",
    "        thinkbayes.Suite.Update(self,data)\n",
    "        for hypo in self.Values():\n",
    "            hypo.Update(data)\n",
    "    \n",
    "    def Likelihood(self,data,hypo):\n",
    "        dirichlet=hypo\n",
    "        like=0\n",
    "        for i in range(500):\n",
    "            like+=dirichlet.Likelihood(data)\n",
    "        return like\n",
    "    \n",
    "    def DistOfN(self):\n",
    "        pmf=thinkbayes.Pmf()\n",
    "        for hypo,prob in self.Items():\n",
    "            pmf.Set(hypo.n,prob)\n",
    "        return pmf\n",
    "    "
   ]
  },
  {
   "cell_type": "code",
   "execution_count": 164,
   "metadata": {
    "scrolled": true
   },
   "outputs": [
    {
     "name": "stdout",
     "output_type": "stream",
     "text": [
      "<__main__.Dirichlet object at 0x129bd2358> 0.037037037037037035\n",
      "<__main__.Dirichlet object at 0x129bd2390> 0.037037037037037035\n",
      "<__main__.Dirichlet object at 0x129bd2e48> 0.037037037037037035\n",
      "<__main__.Dirichlet object at 0x129bd2be0> 0.037037037037037035\n",
      "<__main__.Dirichlet object at 0x129bd2ef0> 0.037037037037037035\n",
      "<__main__.Dirichlet object at 0x129bd25c0> 0.037037037037037035\n",
      "<__main__.Dirichlet object at 0x129bd2978> 0.037037037037037035\n",
      "<__main__.Dirichlet object at 0x129bd2c88> 0.037037037037037035\n",
      "<__main__.Dirichlet object at 0x129bd2240> 0.037037037037037035\n",
      "<__main__.Dirichlet object at 0x129bd2780> 0.037037037037037035\n",
      "<__main__.Dirichlet object at 0x129bd2d68> 0.037037037037037035\n",
      "<__main__.Dirichlet object at 0x129bd2b38> 0.037037037037037035\n",
      "<__main__.Dirichlet object at 0x129bd29b0> 0.037037037037037035\n",
      "<__main__.Dirichlet object at 0x129bd2128> 0.037037037037037035\n",
      "<__main__.Dirichlet object at 0x129bd2dd8> 0.037037037037037035\n",
      "<__main__.Dirichlet object at 0x129bd2048> 0.037037037037037035\n",
      "<__main__.Dirichlet object at 0x129bd2e10> 0.037037037037037035\n",
      "<__main__.Dirichlet object at 0x129bd2ac8> 0.037037037037037035\n",
      "<__main__.Dirichlet object at 0x129bd2eb8> 0.037037037037037035\n",
      "<__main__.Dirichlet object at 0x129bd2da0> 0.037037037037037035\n",
      "<__main__.Dirichlet object at 0x129bd2f60> 0.037037037037037035\n",
      "<__main__.Dirichlet object at 0x129bd2b00> 0.037037037037037035\n",
      "<__main__.Dirichlet object at 0x129bd2198> 0.037037037037037035\n",
      "<__main__.Dirichlet object at 0x129bd2c50> 0.037037037037037035\n",
      "<__main__.Dirichlet object at 0x129bd2828> 0.037037037037037035\n",
      "<__main__.Dirichlet object at 0x129bd24e0> 0.037037037037037035\n",
      "<__main__.Dirichlet object at 0x129bd2e80> 0.037037037037037035\n"
     ]
    },
    {
     "data": {
      "image/png": "[encoded data removed]",
      "text/plain": [
       "<Figure size 432x288 with 1 Axes>"
      ]
     },
     "metadata": {
      "needs_background": "light"
     },
     "output_type": "display_data"
    }
   ],
   "source": [
    "ns=range(3,30)\n",
    "suite=Species(ns)\n",
    "suite.Print()\n",
    "thinkplot.Pmf(suite.DistOfN())"
   ]
  },
  {
   "cell_type": "code",
   "execution_count": 165,
   "metadata": {
    "scrolled": true
   },
   "outputs": [
    {
     "name": "stdout",
     "output_type": "stream",
     "text": [
      "<__main__.Dirichlet object at 0x129bd2358> 0.0\n",
      "<__main__.Dirichlet object at 0x129bd2390> 0.0\n",
      "<__main__.Dirichlet object at 0x129bd2e48> 0.0\n",
      "<__main__.Dirichlet object at 0x129bd2be0> 0.0\n",
      "<__main__.Dirichlet object at 0x129bd2ef0> 0.0\n",
      "<__main__.Dirichlet object at 0x129bd25c0> 0.0\n",
      "<__main__.Dirichlet object at 0x129bd2978> 0.0\n",
      "<__main__.Dirichlet object at 0x129bd2c88> 0.0\n",
      "<__main__.Dirichlet object at 0x129bd2240> 0.0\n",
      "<__main__.Dirichlet object at 0x129bd2780> 0.0\n",
      "<__main__.Dirichlet object at 0x129bd2d68> 0.0\n",
      "<__main__.Dirichlet object at 0x129bd2b38> 0.0\n",
      "<__main__.Dirichlet object at 0x129bd29b0> 0.0\n",
      "<__main__.Dirichlet object at 0x129bd2128> 0.0\n",
      "<__main__.Dirichlet object at 0x129bd2dd8> 0.0\n",
      "<__main__.Dirichlet object at 0x129bd2048> 0.999257007753229\n",
      "<__main__.Dirichlet object at 0x129bd2e10> 0.0007347667502649581\n",
      "<__main__.Dirichlet object at 0x129bd2ac8> 8.224824431487884e-06\n",
      "<__main__.Dirichlet object at 0x129bd2eb8> 6.720745452136337e-10\n",
      "<__main__.Dirichlet object at 0x129bd2da0> 2.7979554264605493e-18\n",
      "<__main__.Dirichlet object at 0x129bd2f60> 5.716311496782857e-21\n",
      "<__main__.Dirichlet object at 0x129bd2b00> 3.824732394980213e-21\n",
      "<__main__.Dirichlet object at 0x129bd2198> 9.810521473918308e-18\n",
      "<__main__.Dirichlet object at 0x129bd2c50> 4.7619449662185913e-23\n",
      "<__main__.Dirichlet object at 0x129bd2828> 2.6680952809969705e-21\n",
      "<__main__.Dirichlet object at 0x129bd24e0> 3.276352534129892e-30\n",
      "<__main__.Dirichlet object at 0x129bd2e80> 1.1628747586305312e-31\n",
      "Warning: Brewer ran out of colors.\n"
     ]
    },
    {
     "data": {
      "image/png": "[encoded data removed]",
      "text/plain": [
       "<Figure size 432x288 with 1 Axes>"
      ]
     },
     "metadata": {
      "needs_background": "light"
     },
     "output_type": "display_data"
    }
   ],
   "source": [
    "for i in range(5,20):\n",
    "#     suite.Update([1,2,3,4,5,6,7,8,9])\n",
    "    suite.Update([10 for x in range(1,i)])\n",
    "suite.Print()\n",
    "thinkplot.Pmf(suite.DistOfN())"
   ]
  },
  {
   "cell_type": "code",
   "execution_count": null,
   "metadata": {},
   "outputs": [],
   "source": []
  }
 ],
 "metadata": {
  "kernelspec": {
   "display_name": "py36",
   "language": "python",
   "name": "py36"
  },
  "language_info": {
   "codemirror_mode": {
    "name": "ipython",
    "version": 3
   },
   "file_extension": ".py",
   "mimetype": "text/x-python",
   "name": "python",
   "nbconvert_exporter": "python",
   "pygments_lexer": "ipython3",
   "version": "3.6.10"
  }
 },
 "nbformat": 4,
 "nbformat_minor": 2
}
