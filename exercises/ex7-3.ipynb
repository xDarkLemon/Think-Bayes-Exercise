{
 "cells": [
  {
   "cell_type": "code",
   "execution_count": 10,
   "metadata": {},
   "outputs": [],
   "source": [
    "import math\n",
    "import scipy\n",
    "import sys\n",
    "sys.path.append(\"../code/\")\n",
    "import thinkbayes\n",
    "import thinkplot\n",
    "\n",
    "class Trap(thinkbayes.Suite):\n",
    "    def __init__(self,name=\"\"):\n",
    "        pmf=thinkbayes.Pmf()\n",
    "        for i in range(1,101):\n",
    "            p=scipy.special.comb(100, i) * (0.5 ** i) * (0.5 ** (100 - i))\n",
    "            pmf.Set(i,p)\n",
    "        thinkbayes.Suite.__init__(self,pmf,name=name)\n",
    "    \n",
    "    def Likelihood(self,data,hypo):\n",
    "        like=scipy.special.comb(100-data, hypo) * (0.5 ** hypo) * (0.5 ** (100 - data - hypo))        \n",
    "        return like"
   ]
  },
  {
   "cell_type": "code",
   "execution_count": 11,
   "metadata": {},
   "outputs": [
    {
     "data": {
      "image/png": "[encoded data removed]",
      "text/plain": [
       "<Figure size 432x288 with 1 Axes>"
      ]
     },
     "metadata": {
      "needs_background": "light"
     },
     "output_type": "display_data"
    }
   ],
   "source": [
    "suite=Trap()\n",
    "thinkplot.Pmf(suite)"
   ]
  },
  {
   "cell_type": "code",
   "execution_count": 12,
   "metadata": {},
   "outputs": [
    {
     "data": {
      "image/png": "[encoded data removed]",
      "text/plain": [
       "<Figure size 432x288 with 1 Axes>"
      ]
     },
     "metadata": {
      "needs_background": "light"
     },
     "output_type": "display_data"
    }
   ],
   "source": [
    "suite.Update(37)\n",
    "thinkplot.Pmf(suite)"
   ]
  },
  {
   "cell_type": "code",
   "execution_count": 26,
   "metadata": {},
   "outputs": [
    {
     "name": "stdout",
     "output_type": "stream",
     "text": [
      "0.13035146372607556\n",
      "(39, 0.13035146372607556)\n"
     ]
    }
   ],
   "source": [
    "print(suite.MaxLike())\n",
    "li=sorted(suite.d.items(),key=lambda x:x[1],reverse=True)\n",
    "print(li[0])"
   ]
  },
  {
   "cell_type": "code",
   "execution_count": null,
   "metadata": {},
   "outputs": [],
   "source": []
  }
 ],
 "metadata": {
  "kernelspec": {
   "display_name": "py36",
   "language": "python",
   "name": "py36"
  },
  "language_info": {
   "codemirror_mode": {
    "name": "ipython",
    "version": 3
   },
   "file_extension": ".py",
   "mimetype": "text/x-python",
   "name": "python",
   "nbconvert_exporter": "python",
   "pygments_lexer": "ipython3",
   "version": "3.6.10"
  }
 },
 "nbformat": 4,
 "nbformat_minor": 2
}
