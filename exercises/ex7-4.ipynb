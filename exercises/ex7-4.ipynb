{
 "cells": [
  {
   "cell_type": "code",
   "execution_count": null,
   "metadata": {},
   "outputs": [],
   "source": [
    "import math\n",
    "import scipy\n",
    "from scipy.stats import exponweib\n",
    "import sys\n",
    "sys.path.append(\"../code/\")\n",
    "import thinkbayes\n",
    "import thinkplot\n",
    "\n",
    "class WeibullPdf(Pdf):\n",
    "    \"\"\"Represents the PDF of a Gaussian distribution.\"\"\"\n",
    "\n",
    "    def __init__(self, beta, alpha):\n",
    "        \"\"\"Constructs a Gaussian Pdf with given mu and sigma.\n",
    "\n",
    "        beta: shape parameter\n",
    "        alpha: scale parameter\n",
    "        \"\"\"\n",
    "        self.beta = beta\n",
    "        self.alpha = alpha\n",
    "\n",
    "    def Density(self, x):\n",
    "        \"\"\"Evaluates this Pdf at x.\n",
    "\n",
    "        Returns: float probability density\n",
    "        \"\"\"\n",
    "        return exponweib.pdf(x, self.beta, self.alpha, scale=100)\n",
    "\n",
    "class Bulb(thinkbayes.Suite):\n",
    "    def __init__(self,name=\"\"):\n",
    "        pdf=WeibullPdf()  # 失效几率密度函数\n",
    "\n",
    "    \n",
    "    def Likelihood(self,data,hypo):\n",
    "        return like"
   ]
  },
  {
   "cell_type": "code",
   "execution_count": 18,
   "metadata": {},
   "outputs": [
    {
     "name": "stdout",
     "output_type": "stream",
     "text": [
      "[0.03163069 0.83255461 2.62826088]\n"
     ]
    }
   ],
   "source": [
    "vals = exponweib.ppf([0.001, 0.5, 0.999], a, c)\n",
    "print(vals)"
   ]
  },
  {
   "cell_type": "code",
   "execution_count": 46,
   "metadata": {},
   "outputs": [
    {
     "data": {
      "text/plain": [
       "0.0029682141408468514"
      ]
     },
     "execution_count": 46,
     "metadata": {},
     "output_type": "execute_result"
    }
   ],
   "source": [
    "exponweib.pdf(20, 2, 1,scale=100)"
   ]
  },
  {
   "cell_type": "code",
   "execution_count": 44,
   "metadata": {},
   "outputs": [
    {
     "data": {
      "text/plain": [
       "[<matplotlib.lines.Line2D at 0x1221b8a20>]"
      ]
     },
     "execution_count": 44,
     "metadata": {},
     "output_type": "execute_result"
    },
    {
     "data": {
      "image/png": "[encoded data removed]",
      "text/plain": [
       "<Figure size 432x288 with 1 Axes>"
      ]
     },
     "metadata": {
      "needs_background": "light"
     },
     "output_type": "display_data"
    },
    {
     "data": {
      "image/png": "[encoded data removed]",
      "text/plain": [
       "<Figure size 432x288 with 1 Axes>"
      ]
     },
     "metadata": {
      "needs_background": "light"
     },
     "output_type": "display_data"
    }
   ],
   "source": [
    "from scipy.stats import exponweib\n",
    "import matplotlib.pyplot as plt\n",
    "import numpy as np\n",
    "import scipy\n",
    "\n",
    "fig, ax = plt.subplots(1, 1)\n",
    "a, c = 2, 1\n",
    "mean, var, skew, kurt = exponweib.stats(a, c, moments='mvsk')\n",
    "# x = np.linspace(exponweib.ppf(0.01, a, c)*100,\n",
    "#                 exponweib.ppf(0.99, a, c)*100, 100)\n",
    "x = np.linspace(1,101, 100)\n",
    "ax.plot(x, exponweib.pdf(x, a, c,scale=100),\n",
    "       'r', lw=1, alpha=1, label='exponweib pdf')\n",
    "\n",
    "fig, ax = plt.subplots(1, 1)\n",
    "rate=[scipy.special.comb(100,round(100*p))*(p**round(100*p))*((1-p)**round(100-100*p)) \n",
    "      for p in exponweib.pdf(x, a, c,scale=100)]\n",
    "ax.plot(x,rate)"
   ]
  },
  {
   "cell_type": "code",
   "execution_count": 23,
   "metadata": {},
   "outputs": [
    {
     "name": "stdout",
     "output_type": "stream",
     "text": [
      "0.019800996674983362\n",
      "0.03843157756609293\n",
      "0.05483587111627368\n",
      "0.0681715031172969\n",
      "0.07788007830714049\n",
      "0.08372115912852372\n",
      "0.08576769518581825\n",
      "0.08436678784688775\n",
      "0.0800744519201294\n",
      "0.07357588823428847\n",
      "0.06560340147457522\n",
      "0.056862662083709214\n",
      "0.0479750762381772\n",
      "0.039440357857892606\n",
      "0.0316197673685593\n",
      "0.02473751694185591\n",
      "0.01889591228790425\n",
      "0.014099002235635347\n",
      "0.010279701809213159\n",
      "0.007326255555493673\n",
      "0.005105174898564275\n",
      "0.0034791037827011117\n",
      "0.0023192097194578523\n",
      "0.0015125335672533323\n",
      "0.0009652270681138548\n",
      "0.0006027991704303873\n",
      "0.000368457148488443\n",
      "0.00022045466276684407\n",
      "0.00012912531701295555\n",
      "7.404588245200776e-05\n",
      "4.157399106774282e-05\n",
      "2.2856223770646482e-05\n",
      "1.2304869938801127e-05\n",
      "6.487310753693888e-06\n",
      "3.349582174490307e-06\n",
      "1.6938541440070347e-06\n",
      "8.389580826734936e-07\n",
      "4.070064330122765e-07\n",
      "1.9340848940751246e-07\n",
      "9.002813977540732e-08\n",
      "4.105098777028973e-08\n",
      "1.833684547905399e-08\n",
      "8.02404731407428e-09\n",
      "3.4398658221530655e-09\n",
      "1.4447052496670488e-09\n",
      "5.944517231257635e-10\n",
      "2.3964189675684376e-10\n",
      "9.465125352951845e-11\n",
      "3.6628199013853486e-11\n",
      "1.3887943864963985e-11\n",
      "5.159417797700667e-12\n",
      "1.8780646950137335e-12\n",
      "6.698443038285887e-13\n",
      "2.340974393228468e-13\n",
      "8.016496505401648e-14\n",
      "2.6899429554154796e-14\n",
      "8.844578366293503e-15\n",
      "2.849650627798895e-15\n",
      "8.996862688359905e-16\n",
      "2.783427396292287e-16\n",
      "8.43843985016062e-17\n",
      "2.5069276523822163e-17\n",
      "7.29831423559755e-18\n",
      "2.082130715460139e-18\n",
      "5.821052174233789e-19\n",
      "1.5948002662679705e-19\n",
      "4.2817914017827766e-20\n",
      "1.1265800730448811e-20\n",
      "2.9048171701088205e-21\n",
      "7.340039928708877e-22\n",
      "1.817621753053344e-22\n",
      "4.410994844991522e-23\n",
      "1.0490590028417197e-23\n",
      "2.445095837825106e-24\n",
      "5.585044682625769e-25\n",
      "1.2502426590442192e-25\n",
      "2.742842617525907e-26\n",
      "5.897233437850734e-27\n",
      "1.2426203778510963e-27\n",
      "2.5660974248778213e-28\n",
      "5.193427303899913e-29\n",
      "1.030108296207395e-29\n",
      "2.0024479201166696e-30\n",
      "3.8149657090043663e-31\n",
      "7.123158430640495e-32\n",
      "1.3034925860303773e-32\n",
      "2.3377599441002312e-33\n",
      "4.109112098937532e-34\n",
      "7.078709514264932e-35\n",
      "1.1951418959245288e-35\n",
      "1.9776313661577055e-36\n",
      "3.2072504498274075e-37\n",
      "5.097804829583975e-38\n",
      "7.941406523667575e-39\n",
      "1.2124856551315607e-39\n",
      "1.8143529554863214e-40\n",
      "2.6609329272417866e-41\n",
      "3.824846665378873e-42\n",
      "5.388439597385534e-43\n",
      "7.44015195204172e-44\n"
     ]
    }
   ],
   "source": [
    "from scipy.stats import exponweib\n",
    "\n",
    "a,c=1,2\n",
    "# x = np.linspace(1,101, 100)\n",
    "for x in range(1,101):\n",
    "    pdf=exponweib.pdf(x, a, c, loc=0, scale=10)  # suppose 100 days in total\n",
    "    print(pdf)"
   ]
  },
  {
   "cell_type": "code",
   "execution_count": null,
   "metadata": {},
   "outputs": [],
   "source": []
  }
 ],
 "metadata": {
  "kernelspec": {
   "display_name": "py36",
   "language": "python",
   "name": "py36"
  },
  "language_info": {
   "codemirror_mode": {
    "name": "ipython",
    "version": 3
   },
   "file_extension": ".py",
   "mimetype": "text/x-python",
   "name": "python",
   "nbconvert_exporter": "python",
   "pygments_lexer": "ipython3",
   "version": "3.6.10"
  }
 },
 "nbformat": 4,
 "nbformat_minor": 2
}
